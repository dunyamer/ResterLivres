{
 "cells": [
  {
   "cell_type": "markdown",
   "id": "c848332a",
   "metadata": {},
   "source": [
    "# 📚  <font color='indianred'> ANALYSE LES VENTES DE l'ENTREPRISE \"RESTER LIVRES\"  </font>\n",
    "\n",
    "L'entreprise, \"Rester Livres\", une grande chaîne de librairie, vend des livres en ligne avec grand succès, en se basant sur leurs algorithmes de recommendation. on va proposer **une analyse de contenue de leur base de données via Python**.\n",
    "\n",
    "# Table de Matière\n",
    "\n",
    "# <a href=\"#C1\">  1. Missions & objectifs </a>\n",
    "\n",
    "    \n",
    "#  2. Inspection des données\n",
    "\n",
    "- <a href=\"#C2\"> 2.1 Configuration du l'environnement de travail en Python </a> \n",
    "- <a href=\"#C3\"> 2.2 Chargement des donnée </a> \n",
    "- <a href=\"#C4\"> 2.3 Déscription des fichiers csv sources </a> \n",
    "  - Dimensions: colonnes & lignes\n",
    "  - Types de variables\n",
    "  - Remplissage par données\n",
    "\n",
    "- <a href=\"#C5\"> 2.4 Validation de la qualité de données </a>\n",
    "  - <a href=\"#C6\"> 2.4.1 Le valeurs manquantes </a>\n",
    "  - <a href=\"#C7\"> 2.4.2 Le valeurs aberrantes </a>\n",
    "    \n",
    "# 3. Préparation de données\n",
    "\n",
    "- <a href=\"#C8\"> 3.1 Traitement des valeurs test </a>\n",
    "- <a href=\"#C9\"> 3.2 Conversion de types </a>\n",
    "- <a href=\"#C10\"> 3.3 Unicité de la clé primaire </a>\n",
    "- <a href=\"#C11\"> 3.4 Détection des doublons </a>\n",
    "- <a href=\"#C12\"> 3.5 Traitement des valeurs négatives </a> \n",
    "- <a href=\"#C13\"> 3.6 Jointure des dataframes </a> \n",
    " \n",
    "#  4. Analyse uni-varié des indicateurs \n",
    "\n",
    "- <a href=\"#C14\"> 4.1 Stats Descriptives (quantis) </a>\n",
    "- <a href=\"#C15\"> 4.2 Distribution des prix </a>\n",
    "- <a href=\"#C16\"> 4.3 Analyse du nombre d'achats </a>\n",
    "- <a href=\"#C17\"> 4.4 Analyse du CA </a>\n",
    "- <a href=\"#C18\"> 4.5 Bilan </a>\n",
    " \n",
    "# 5. Analyse bi-variés des indicateurs \n",
    "\n",
    "- <a href=\"#C19\"> 5.1 Sexe client / Catégorie livres achetés</a>\n",
    "- <a href=\"#C20\"> 5.2 Classe Age client / Catégorie livres achetés</a>\n",
    "- <a href=\"#C21\"> 5.3 Age client / Catégorie livres achetés</a>\n",
    "- <a href=\"#C22\"> 5.4 Age client / Montant total des achats</a>\n",
    "- <a href=\"#C23\"> 5.5 Age client / Fréquence d'achat</a>\n",
    "- <a href=\"#C24\"> 5.6 Age client / Panier moyen</a>\n",
    "       \n",
    "   \n",
    "# 6. Discussions & Perspectives \n",
    "\n",
    "- <a href=\"#C25\"> 6.1 Evolution temporelle? </a>\n",
    "- <a href=\"#C26\"> 6.2 Perspectives </a>\n",
    "     "
   ]
  },
  {
   "cell_type": "markdown",
   "id": "e5ef206f",
   "metadata": {},
   "source": [
    "#  <a name=\"#C1\"><font color='indiancian'> 1. Missions & objectifs </font> </a>\n",
    "\n",
    "Explorer les données de ventes de l'Entreprise, En cherchant les informations pertinents pour comprendre les tendances de ventes. cela comprit\n",
    "\n",
    "- Nettoyage de données (valeurs manquants & aberrants)\n",
    "- Analyse de données (KPIs, tendances centrals & dispersion, concentration)\n",
    "- Caractériser les dépendances entre les indicateurs categoriales des clients (âge, sexe) et les tendances de ventes (montants d'achats, fréquence, taille de panier, catégories de produits)\n",
    "- Representation visuelle des résultats (hists, boxplots, timeseries) "
   ]
  },
  {
   "cell_type": "markdown",
   "id": "1c286154",
   "metadata": {},
   "source": []
  },
  {
   "cell_type": "code",
   "execution_count": null,
   "id": "383486d8",
   "metadata": {},
   "outputs": [],
   "source": []
  }
 ],
 "metadata": {
  "kernelspec": {
   "display_name": "Python 3 (ipykernel)",
   "language": "python",
   "name": "python3"
  },
  "language_info": {
   "codemirror_mode": {
    "name": "ipython",
    "version": 3
   },
   "file_extension": ".py",
   "mimetype": "text/x-python",
   "name": "python",
   "nbconvert_exporter": "python",
   "pygments_lexer": "ipython3",
   "version": "3.9.13"
  }
 },
 "nbformat": 4,
 "nbformat_minor": 5
}
